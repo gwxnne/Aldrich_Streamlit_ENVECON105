{
 "cells": [
  {
   "cell_type": "markdown",
   "id": "bfe12b9c",
   "metadata": {},
   "source": [
    "## CO2 EMISSIONS IN THE PHILIPPINES AND POTENTIAL UNDERLYING CORRELATIONS"
   ]
  },
  {
   "cell_type": "markdown",
   "id": "0d370811",
   "metadata": {},
   "source": [
    "### Motivation"
   ]
  },
  {
   "cell_type": "markdown",
   "id": "61f384d8",
   "metadata": {},
   "source": [
    "I picked the Philippines because I am half Filipino, and I thought it would be interesting to learn a little bit more about my mother's home country while while doing this assignment. It's also the only foreign country I've been to, so I wanted to see if I could draw any parallels between the statistics I find and any insights I had in real life.\n",
    "\n",
    "The Philippines is a developing country and its CO2 emissions are indicative of this. The country of 115 million people emits 1.35 tonnes of CO2 per capita. In total, it emits 154.58 millions tonnes of CO2. Although there are periodic dips in emissions, the country has consistently increased its CO2 emissions since the 1950s. (ourworldindata.org)"
   ]
  },
  {
   "cell_type": "markdown",
   "id": "988a6239",
   "metadata": {},
   "source": [
    "### Main Questions"
   ]
  },
  {
   "cell_type": "markdown",
   "id": "32a649b1",
   "metadata": {},
   "source": [
    "(1) How has the chosen COUNTRY’s CO2 emissions changed over time? And how\n",
    "does the chosen COUNTRY compare to other countries? <br>\n",
    "2) Are CO2 emissions, temperature, and natural disasters in the chosen COUNTRY\n",
    "associated?"
   ]
  },
  {
   "cell_type": "markdown",
   "id": "a4d0ef23",
   "metadata": {},
   "source": [
    "### Context"
   ]
  },
  {
   "cell_type": "markdown",
   "id": "e639ad67",
   "metadata": {},
   "source": [
    "For this project, we are aiming to understand CO2 emissions in the Philippines. We will be comparing CO2 emissions from other countries, while attempting to find underyling connections between some indicators and emissions. For this project, we will be unraveling data concerning CO2 emissions, natural disasters, gdp and growth, energy use, and average temperature. We will be going into more detail about the data in a later section."
   ]
  },
  {
   "cell_type": "markdown",
   "id": "1cd83818",
   "metadata": {},
   "source": [
    "### Limitations"
   ]
  },
  {
   "cell_type": "markdown",
   "id": "26fdda02",
   "metadata": {},
   "source": [
    "#### What can we say with this data?"
   ]
  },
  {
   "cell_type": "markdown",
   "id": "8c774c68",
   "metadata": {},
   "source": [
    "We can draw some conclusions about the change in CO2 emissions in the Philippines overtime. We can also try to draw these conclusions with gdp per capita, energy usage, temperature, and disasters in mind. We can draw some correlation between events and CO2 emissions, but we cannot definiitely determine causation."
   ]
  },
  {
   "cell_type": "markdown",
   "id": "3b502c30",
   "metadata": {},
   "source": [
    "#### What does our data measure?"
   ]
  },
  {
   "cell_type": "markdown",
   "id": "01e5acd2",
   "metadata": {},
   "source": [
    "Our data measures the CO2 emissions in the Philippines. We are also tracking the GDP per capita, the number of storms that occur per year, the average temperature per year, and the average energy usage per year."
   ]
  },
  {
   "cell_type": "markdown",
   "id": "b6f5440e",
   "metadata": {},
   "source": [
    "### Import"
   ]
  },
  {
   "cell_type": "code",
   "execution_count": 11,
   "id": "649d93a1",
   "metadata": {
    "scrolled": false
   },
   "outputs": [],
   "source": [
    "# pip install streamlit -i https://pypi.tuna.tsinghua.edu.cn/simple\n"
   ]
  },
  {
   "cell_type": "code",
   "execution_count": 12,
   "id": "26f30e1f",
   "metadata": {},
   "outputs": [],
   "source": [
    "import pandas as pd\n",
    "import numpy as np\n",
    "import matplotlib.pyplot as plt\n",
    "import seaborn as sns\n",
    "import streamlit as st"
   ]
  },
  {
   "cell_type": "code",
   "execution_count": 13,
   "id": "78af4d17",
   "metadata": {},
   "outputs": [],
   "source": [
    "# CO2 = pd.read_csv(\"co2_pcap_cons.csv\")\n",
    "# population = pd.read_csv(\"pop.csv\")\n",
    "# disasters = pd.read_excel(\"public_emdat_custom_request_2025-08-16_a5922965-bb80-478a-984f-461f64560ac9.xlsx\")\n",
    "# gdp = pd.read_csv(\"API_NY.GDP.PCAP.KD.ZG_DS2_en_csv_v2_37698.csv\", skiprows=4)\n",
    "# energy_use = pd.read_csv(\"API_EG.USE.PCAP.KG.OE_DS2_en_csv_v2_22839.csv\", skiprows=4)\n",
    "# temp = pd.read_excel(\"cmip6-x0.25_timeseries_tas_timeseries_annual_1950-2014,2015-2100_median,p10,p90_historical,ssp119,ssp126,ssp245,ssp370,ssp585_ensemble_all_mean.xlsx\")\n",
    "\n",
    "CO2 = pd.read_csv(\"https://raw.githubusercontent.com/gwxnne/Aldrich_Streamlit_ENVECON105/main/co2_pcap_cons.csv\")\n",
    "disasters = pd.read_excel(\"https://raw.githubusercontent.com/gwxnne/Aldrich_Streamlit_ENVECON105/main/public_emdat_custom_request_2025-08-16_a5922965-bb80-478a-984f-461f64560ac9.xlsx\")\n",
    "gdp = pd.read_csv(\"https://raw.githubusercontent.com/gwxnne/Aldrich_Streamlit_ENVECON105/main/API_NY.GDP.PCAP.KD.ZG_DS2_en_csv_v2_37698.csv\", skiprows=4)\n",
    "energy_use = pd.read_csv(\"https://raw.githubusercontent.com/gwxnne/Aldrich_Streamlit_ENVECON105/main/API_EG.USE.PCAP.KG.OE_DS2_en_csv_v2_22839.csv\", skiprows=4)\n",
    "temp = pd.read_excel(\"https://raw.githubusercontent.com/gwxnne/Aldrich_Streamlit_ENVECON105/main/cmip6-x0.25_timeseries_tas_timeseries_annual_1950-2014,2015-2100_median,p10,p90_historical,ssp119,ssp126,ssp245,ssp370,ssp585_ensemble_all_mean.xlsx\")\n",
    "\n"
   ]
  },
  {
   "cell_type": "markdown",
   "id": "40bb3077",
   "metadata": {},
   "source": [
    "### Data Wrangling"
   ]
  },
  {
   "cell_type": "markdown",
   "id": "23ea6be1",
   "metadata": {},
   "source": [
    "First, let's take a look at the star of the show, CO2 emissions:"
   ]
  },
  {
   "cell_type": "code",
   "execution_count": 14,
   "id": "b3e4fa05",
   "metadata": {},
   "outputs": [
    {
     "data": {
      "text/html": [
       "<div>\n",
       "<style scoped>\n",
       "    .dataframe tbody tr th:only-of-type {\n",
       "        vertical-align: middle;\n",
       "    }\n",
       "\n",
       "    .dataframe tbody tr th {\n",
       "        vertical-align: top;\n",
       "    }\n",
       "\n",
       "    .dataframe thead th {\n",
       "        text-align: right;\n",
       "    }\n",
       "</style>\n",
       "<table border=\"1\" class=\"dataframe\">\n",
       "  <thead>\n",
       "    <tr style=\"text-align: right;\">\n",
       "      <th></th>\n",
       "      <th>country</th>\n",
       "      <th>1800</th>\n",
       "      <th>1801</th>\n",
       "      <th>1802</th>\n",
       "      <th>1803</th>\n",
       "      <th>1804</th>\n",
       "      <th>1805</th>\n",
       "      <th>1806</th>\n",
       "      <th>1807</th>\n",
       "      <th>1808</th>\n",
       "      <th>...</th>\n",
       "      <th>2013</th>\n",
       "      <th>2014</th>\n",
       "      <th>2015</th>\n",
       "      <th>2016</th>\n",
       "      <th>2017</th>\n",
       "      <th>2018</th>\n",
       "      <th>2019</th>\n",
       "      <th>2020</th>\n",
       "      <th>2021</th>\n",
       "      <th>2022</th>\n",
       "    </tr>\n",
       "  </thead>\n",
       "  <tbody>\n",
       "    <tr>\n",
       "      <th>0</th>\n",
       "      <td>Afghanistan</td>\n",
       "      <td>0.001</td>\n",
       "      <td>0.001</td>\n",
       "      <td>0.001</td>\n",
       "      <td>0.001</td>\n",
       "      <td>0.001</td>\n",
       "      <td>0.001</td>\n",
       "      <td>0.001</td>\n",
       "      <td>0.001</td>\n",
       "      <td>0.001</td>\n",
       "      <td>...</td>\n",
       "      <td>0.28</td>\n",
       "      <td>0.253</td>\n",
       "      <td>0.262</td>\n",
       "      <td>0.245</td>\n",
       "      <td>0.247</td>\n",
       "      <td>0.254</td>\n",
       "      <td>0.261</td>\n",
       "      <td>0.261</td>\n",
       "      <td>0.279</td>\n",
       "      <td>0.284</td>\n",
       "    </tr>\n",
       "    <tr>\n",
       "      <th>1</th>\n",
       "      <td>Angola</td>\n",
       "      <td>0.009</td>\n",
       "      <td>0.009</td>\n",
       "      <td>0.009</td>\n",
       "      <td>0.009</td>\n",
       "      <td>0.009</td>\n",
       "      <td>0.009</td>\n",
       "      <td>0.010</td>\n",
       "      <td>0.010</td>\n",
       "      <td>0.010</td>\n",
       "      <td>...</td>\n",
       "      <td>1.28</td>\n",
       "      <td>1.640</td>\n",
       "      <td>1.220</td>\n",
       "      <td>1.180</td>\n",
       "      <td>1.150</td>\n",
       "      <td>1.120</td>\n",
       "      <td>1.150</td>\n",
       "      <td>1.120</td>\n",
       "      <td>1.200</td>\n",
       "      <td>1.230</td>\n",
       "    </tr>\n",
       "    <tr>\n",
       "      <th>2</th>\n",
       "      <td>Albania</td>\n",
       "      <td>0.001</td>\n",
       "      <td>0.001</td>\n",
       "      <td>0.001</td>\n",
       "      <td>0.001</td>\n",
       "      <td>0.001</td>\n",
       "      <td>0.001</td>\n",
       "      <td>0.001</td>\n",
       "      <td>0.001</td>\n",
       "      <td>0.001</td>\n",
       "      <td>...</td>\n",
       "      <td>2.27</td>\n",
       "      <td>2.250</td>\n",
       "      <td>2.040</td>\n",
       "      <td>2.010</td>\n",
       "      <td>2.130</td>\n",
       "      <td>2.080</td>\n",
       "      <td>2.050</td>\n",
       "      <td>2.000</td>\n",
       "      <td>2.120</td>\n",
       "      <td>2.100</td>\n",
       "    </tr>\n",
       "    <tr>\n",
       "      <th>3</th>\n",
       "      <td>Andorra</td>\n",
       "      <td>0.333</td>\n",
       "      <td>0.335</td>\n",
       "      <td>0.337</td>\n",
       "      <td>0.340</td>\n",
       "      <td>0.342</td>\n",
       "      <td>0.345</td>\n",
       "      <td>0.347</td>\n",
       "      <td>0.350</td>\n",
       "      <td>0.352</td>\n",
       "      <td>...</td>\n",
       "      <td>5.9</td>\n",
       "      <td>5.830</td>\n",
       "      <td>5.970</td>\n",
       "      <td>6.070</td>\n",
       "      <td>6.270</td>\n",
       "      <td>6.120</td>\n",
       "      <td>6.060</td>\n",
       "      <td>5.630</td>\n",
       "      <td>5.970</td>\n",
       "      <td>5.910</td>\n",
       "    </tr>\n",
       "    <tr>\n",
       "      <th>4</th>\n",
       "      <td>UAE</td>\n",
       "      <td>0.063</td>\n",
       "      <td>0.063</td>\n",
       "      <td>0.064</td>\n",
       "      <td>0.064</td>\n",
       "      <td>0.064</td>\n",
       "      <td>0.064</td>\n",
       "      <td>0.065</td>\n",
       "      <td>0.065</td>\n",
       "      <td>0.065</td>\n",
       "      <td>...</td>\n",
       "      <td>27</td>\n",
       "      <td>26.800</td>\n",
       "      <td>27.000</td>\n",
       "      <td>26.700</td>\n",
       "      <td>23.900</td>\n",
       "      <td>23.500</td>\n",
       "      <td>21.200</td>\n",
       "      <td>19.700</td>\n",
       "      <td>20.700</td>\n",
       "      <td>21.100</td>\n",
       "    </tr>\n",
       "  </tbody>\n",
       "</table>\n",
       "<p>5 rows × 224 columns</p>\n",
       "</div>"
      ],
      "text/plain": [
       "       country   1800   1801   1802   1803   1804   1805   1806   1807   1808  \\\n",
       "0  Afghanistan  0.001  0.001  0.001  0.001  0.001  0.001  0.001  0.001  0.001   \n",
       "1       Angola  0.009  0.009  0.009  0.009  0.009  0.009  0.010  0.010  0.010   \n",
       "2      Albania  0.001  0.001  0.001  0.001  0.001  0.001  0.001  0.001  0.001   \n",
       "3      Andorra  0.333  0.335  0.337  0.340  0.342  0.345  0.347  0.350  0.352   \n",
       "4          UAE  0.063  0.063  0.064  0.064  0.064  0.064  0.065  0.065  0.065   \n",
       "\n",
       "   ...  2013    2014    2015    2016    2017    2018    2019    2020    2021  \\\n",
       "0  ...  0.28   0.253   0.262   0.245   0.247   0.254   0.261   0.261   0.279   \n",
       "1  ...  1.28   1.640   1.220   1.180   1.150   1.120   1.150   1.120   1.200   \n",
       "2  ...  2.27   2.250   2.040   2.010   2.130   2.080   2.050   2.000   2.120   \n",
       "3  ...   5.9   5.830   5.970   6.070   6.270   6.120   6.060   5.630   5.970   \n",
       "4  ...    27  26.800  27.000  26.700  23.900  23.500  21.200  19.700  20.700   \n",
       "\n",
       "     2022  \n",
       "0   0.284  \n",
       "1   1.230  \n",
       "2   2.100  \n",
       "3   5.910  \n",
       "4  21.100  \n",
       "\n",
       "[5 rows x 224 columns]"
      ]
     },
     "execution_count": 14,
     "metadata": {},
     "output_type": "execute_result"
    }
   ],
   "source": [
    "CO2.head(n=5)"
   ]
  },
  {
   "cell_type": "markdown",
   "id": "0ef60c92",
   "metadata": {},
   "source": [
    "Something looks a little off with the data, 21.100 Tonnes of CO2 isn't a realistic output for a country, especiallt the UAE. The current data we're working with is emissions per capita. We can multiply the per capita outputs times population to get a country's total output "
   ]
  },
  {
   "cell_type": "code",
   "execution_count": 15,
   "id": "425f6a9e",
   "metadata": {},
   "outputs": [],
   "source": [
    "def parse_number(x):\n",
    "    if pd.isna(x):  \n",
    "        return None\n",
    "    x = str(x).strip()\n",
    "    if x.endswith(\"M\"):\n",
    "        return float(x[:-1]) * 1_000_000\n",
    "    elif x.endswith(\"k\"):\n",
    "        return float(x[:-1]) * 1_000\n",
    "    elif x.endswith(\"B\"):\n",
    "        return float(x[:-1]) * 1_000_000_000\n",
    "    else:\n",
    "        return float(x)"
   ]
  },
  {
   "cell_type": "code",
   "execution_count": 16,
   "id": "e1e52cd7",
   "metadata": {},
   "outputs": [
    {
     "data": {
      "text/html": [
       "<div>\n",
       "<style scoped>\n",
       "    .dataframe tbody tr th:only-of-type {\n",
       "        vertical-align: middle;\n",
       "    }\n",
       "\n",
       "    .dataframe tbody tr th {\n",
       "        vertical-align: top;\n",
       "    }\n",
       "\n",
       "    .dataframe thead th {\n",
       "        text-align: right;\n",
       "    }\n",
       "</style>\n",
       "<table border=\"1\" class=\"dataframe\">\n",
       "  <thead>\n",
       "    <tr style=\"text-align: right;\">\n",
       "      <th></th>\n",
       "      <th>country</th>\n",
       "      <th>Year</th>\n",
       "      <th>Population</th>\n",
       "    </tr>\n",
       "  </thead>\n",
       "  <tbody>\n",
       "    <tr>\n",
       "      <th>0</th>\n",
       "      <td>Afghanistan</td>\n",
       "      <td>1800</td>\n",
       "      <td>3280000.0</td>\n",
       "    </tr>\n",
       "    <tr>\n",
       "      <th>1</th>\n",
       "      <td>Angola</td>\n",
       "      <td>1800</td>\n",
       "      <td>1570000.0</td>\n",
       "    </tr>\n",
       "    <tr>\n",
       "      <th>2</th>\n",
       "      <td>Albania</td>\n",
       "      <td>1800</td>\n",
       "      <td>400000.0</td>\n",
       "    </tr>\n",
       "    <tr>\n",
       "      <th>3</th>\n",
       "      <td>Andorra</td>\n",
       "      <td>1800</td>\n",
       "      <td>2650.0</td>\n",
       "    </tr>\n",
       "    <tr>\n",
       "      <th>4</th>\n",
       "      <td>UAE</td>\n",
       "      <td>1800</td>\n",
       "      <td>40200.0</td>\n",
       "    </tr>\n",
       "  </tbody>\n",
       "</table>\n",
       "</div>"
      ],
      "text/plain": [
       "       country  Year  Population\n",
       "0  Afghanistan  1800   3280000.0\n",
       "1       Angola  1800   1570000.0\n",
       "2      Albania  1800    400000.0\n",
       "3      Andorra  1800      2650.0\n",
       "4          UAE  1800     40200.0"
      ]
     },
     "execution_count": 16,
     "metadata": {},
     "output_type": "execute_result"
    }
   ],
   "source": [
    "pop_melt = pd.melt(\n",
    "    population,\n",
    "    id_vars=[\"country\"],\n",
    "    var_name=\"Year\",         \n",
    "    value_name=\"Population\"   \n",
    ")\n",
    "pop_melt[\"Population\"] = [parse_number(x) for x in pop_melt[\"Population\"]]\n",
    "pop_melt.head()"
   ]
  },
  {
   "cell_type": "markdown",
   "id": "2ad53653",
   "metadata": {},
   "source": [
    "As we can see, our current data set deals with data from all countries around the world. The format for this data isn't ideal for what we want to do. We can use the pandas function melt to turn each row into an individual entry for a country per year. We'll also perform some basic data cleaning."
   ]
  },
  {
   "cell_type": "code",
   "execution_count": 17,
   "id": "92ab80eb",
   "metadata": {},
   "outputs": [
    {
     "data": {
      "text/html": [
       "<div>\n",
       "<style scoped>\n",
       "    .dataframe tbody tr th:only-of-type {\n",
       "        vertical-align: middle;\n",
       "    }\n",
       "\n",
       "    .dataframe tbody tr th {\n",
       "        vertical-align: top;\n",
       "    }\n",
       "\n",
       "    .dataframe thead th {\n",
       "        text-align: right;\n",
       "    }\n",
       "</style>\n",
       "<table border=\"1\" class=\"dataframe\">\n",
       "  <thead>\n",
       "    <tr style=\"text-align: right;\">\n",
       "      <th></th>\n",
       "      <th>Country</th>\n",
       "      <th>Year</th>\n",
       "      <th>Emissions</th>\n",
       "      <th>Label</th>\n",
       "    </tr>\n",
       "  </thead>\n",
       "  <tbody>\n",
       "    <tr>\n",
       "      <th>0</th>\n",
       "      <td>Afghanistan</td>\n",
       "      <td>1800</td>\n",
       "      <td>0.001</td>\n",
       "      <td>CO2 Emissions (Metric Tons)</td>\n",
       "    </tr>\n",
       "    <tr>\n",
       "      <th>1</th>\n",
       "      <td>Angola</td>\n",
       "      <td>1800</td>\n",
       "      <td>0.009</td>\n",
       "      <td>CO2 Emissions (Metric Tons)</td>\n",
       "    </tr>\n",
       "    <tr>\n",
       "      <th>2</th>\n",
       "      <td>Albania</td>\n",
       "      <td>1800</td>\n",
       "      <td>0.001</td>\n",
       "      <td>CO2 Emissions (Metric Tons)</td>\n",
       "    </tr>\n",
       "    <tr>\n",
       "      <th>3</th>\n",
       "      <td>Andorra</td>\n",
       "      <td>1800</td>\n",
       "      <td>0.333</td>\n",
       "      <td>CO2 Emissions (Metric Tons)</td>\n",
       "    </tr>\n",
       "    <tr>\n",
       "      <th>4</th>\n",
       "      <td>UAE</td>\n",
       "      <td>1800</td>\n",
       "      <td>0.063</td>\n",
       "      <td>CO2 Emissions (Metric Tons)</td>\n",
       "    </tr>\n",
       "  </tbody>\n",
       "</table>\n",
       "</div>"
      ],
      "text/plain": [
       "       Country  Year Emissions                        Label\n",
       "0  Afghanistan  1800     0.001  CO2 Emissions (Metric Tons)\n",
       "1       Angola  1800     0.009  CO2 Emissions (Metric Tons)\n",
       "2      Albania  1800     0.001  CO2 Emissions (Metric Tons)\n",
       "3      Andorra  1800     0.333  CO2 Emissions (Metric Tons)\n",
       "4          UAE  1800     0.063  CO2 Emissions (Metric Tons)"
      ]
     },
     "execution_count": 17,
     "metadata": {},
     "output_type": "execute_result"
    }
   ],
   "source": [
    "CO2melt = pd.melt(\n",
    "    CO2,\n",
    "    id_vars=[\"country\"],\n",
    "    var_name=\"Year\",         \n",
    "    value_name=\"Emissions\"   \n",
    ")\n",
    "CO2melt = CO2melt.rename(columns = {\"country\":\"Country\"})\n",
    "CO2melt[\"Year\"] = pd.to_numeric(CO2melt[\"Year\"])\n",
    "CO2melt[\"Label\"] = \"CO2 Emissions (Metric Tons)\"\n",
    "#CO2melt[\"Emissions\"] = CO2melt[\"Emissions per Capita\"] * pop_melt[\"Population\"]\n",
    "CO2melt.head()"
   ]
  },
  {
   "cell_type": "markdown",
   "id": "eeeaee11",
   "metadata": {},
   "source": [
    "There are some small issues that occured when importing the csv. The negative in front of this value is under a different code, so pandas is unable to convert the string into an integer. In the following cell, I will adjust some of these discrepencies"
   ]
  },
  {
   "cell_type": "code",
   "execution_count": 18,
   "id": "aab8d7f3",
   "metadata": {},
   "outputs": [
    {
     "name": "stderr",
     "output_type": "stream",
     "text": [
      "/var/folders/v2/8qkkty650w9_hn0cfrzxsncr0000gn/T/ipykernel_67860/3977438197.py:3: SettingWithCopyWarning: \n",
      "A value is trying to be set on a copy of a slice from a DataFrame\n",
      "\n",
      "See the caveats in the documentation: https://pandas.pydata.org/pandas-docs/stable/user_guide/indexing.html#returning-a-view-versus-a-copy\n",
      "  CO2melt[\"Emissions\"][idx] = '-' + CO2melt[\"Emissions\"][idx][1:6]\n",
      "/var/folders/v2/8qkkty650w9_hn0cfrzxsncr0000gn/T/ipykernel_67860/3977438197.py:3: SettingWithCopyWarning: \n",
      "A value is trying to be set on a copy of a slice from a DataFrame\n",
      "\n",
      "See the caveats in the documentation: https://pandas.pydata.org/pandas-docs/stable/user_guide/indexing.html#returning-a-view-versus-a-copy\n",
      "  CO2melt[\"Emissions\"][idx] = '-' + CO2melt[\"Emissions\"][idx][1:6]\n",
      "/var/folders/v2/8qkkty650w9_hn0cfrzxsncr0000gn/T/ipykernel_67860/3977438197.py:3: SettingWithCopyWarning: \n",
      "A value is trying to be set on a copy of a slice from a DataFrame\n",
      "\n",
      "See the caveats in the documentation: https://pandas.pydata.org/pandas-docs/stable/user_guide/indexing.html#returning-a-view-versus-a-copy\n",
      "  CO2melt[\"Emissions\"][idx] = '-' + CO2melt[\"Emissions\"][idx][1:6]\n",
      "/var/folders/v2/8qkkty650w9_hn0cfrzxsncr0000gn/T/ipykernel_67860/3977438197.py:3: SettingWithCopyWarning: \n",
      "A value is trying to be set on a copy of a slice from a DataFrame\n",
      "\n",
      "See the caveats in the documentation: https://pandas.pydata.org/pandas-docs/stable/user_guide/indexing.html#returning-a-view-versus-a-copy\n",
      "  CO2melt[\"Emissions\"][idx] = '-' + CO2melt[\"Emissions\"][idx][1:6]\n",
      "/var/folders/v2/8qkkty650w9_hn0cfrzxsncr0000gn/T/ipykernel_67860/3977438197.py:3: SettingWithCopyWarning: \n",
      "A value is trying to be set on a copy of a slice from a DataFrame\n",
      "\n",
      "See the caveats in the documentation: https://pandas.pydata.org/pandas-docs/stable/user_guide/indexing.html#returning-a-view-versus-a-copy\n",
      "  CO2melt[\"Emissions\"][idx] = '-' + CO2melt[\"Emissions\"][idx][1:6]\n",
      "/var/folders/v2/8qkkty650w9_hn0cfrzxsncr0000gn/T/ipykernel_67860/3977438197.py:3: SettingWithCopyWarning: \n",
      "A value is trying to be set on a copy of a slice from a DataFrame\n",
      "\n",
      "See the caveats in the documentation: https://pandas.pydata.org/pandas-docs/stable/user_guide/indexing.html#returning-a-view-versus-a-copy\n",
      "  CO2melt[\"Emissions\"][idx] = '-' + CO2melt[\"Emissions\"][idx][1:6]\n",
      "/var/folders/v2/8qkkty650w9_hn0cfrzxsncr0000gn/T/ipykernel_67860/3977438197.py:3: SettingWithCopyWarning: \n",
      "A value is trying to be set on a copy of a slice from a DataFrame\n",
      "\n",
      "See the caveats in the documentation: https://pandas.pydata.org/pandas-docs/stable/user_guide/indexing.html#returning-a-view-versus-a-copy\n",
      "  CO2melt[\"Emissions\"][idx] = '-' + CO2melt[\"Emissions\"][idx][1:6]\n"
     ]
    },
    {
     "data": {
      "text/html": [
       "<div>\n",
       "<style scoped>\n",
       "    .dataframe tbody tr th:only-of-type {\n",
       "        vertical-align: middle;\n",
       "    }\n",
       "\n",
       "    .dataframe tbody tr th {\n",
       "        vertical-align: top;\n",
       "    }\n",
       "\n",
       "    .dataframe thead th {\n",
       "        text-align: right;\n",
       "    }\n",
       "</style>\n",
       "<table border=\"1\" class=\"dataframe\">\n",
       "  <thead>\n",
       "    <tr style=\"text-align: right;\">\n",
       "      <th></th>\n",
       "      <th>Country</th>\n",
       "      <th>Year</th>\n",
       "      <th>Emissions</th>\n",
       "      <th>Label</th>\n",
       "    </tr>\n",
       "  </thead>\n",
       "  <tbody>\n",
       "    <tr>\n",
       "      <th>0</th>\n",
       "      <td>Afghanistan</td>\n",
       "      <td>1800</td>\n",
       "      <td>0.001</td>\n",
       "      <td>CO2 Emissions (Metric Tons)</td>\n",
       "    </tr>\n",
       "    <tr>\n",
       "      <th>1</th>\n",
       "      <td>Angola</td>\n",
       "      <td>1800</td>\n",
       "      <td>0.009</td>\n",
       "      <td>CO2 Emissions (Metric Tons)</td>\n",
       "    </tr>\n",
       "    <tr>\n",
       "      <th>2</th>\n",
       "      <td>Albania</td>\n",
       "      <td>1800</td>\n",
       "      <td>0.001</td>\n",
       "      <td>CO2 Emissions (Metric Tons)</td>\n",
       "    </tr>\n",
       "    <tr>\n",
       "      <th>3</th>\n",
       "      <td>Andorra</td>\n",
       "      <td>1800</td>\n",
       "      <td>0.333</td>\n",
       "      <td>CO2 Emissions (Metric Tons)</td>\n",
       "    </tr>\n",
       "    <tr>\n",
       "      <th>4</th>\n",
       "      <td>UAE</td>\n",
       "      <td>1800</td>\n",
       "      <td>0.063</td>\n",
       "      <td>CO2 Emissions (Metric Tons)</td>\n",
       "    </tr>\n",
       "  </tbody>\n",
       "</table>\n",
       "</div>"
      ],
      "text/plain": [
       "       Country  Year  Emissions                        Label\n",
       "0  Afghanistan  1800      0.001  CO2 Emissions (Metric Tons)\n",
       "1       Angola  1800      0.009  CO2 Emissions (Metric Tons)\n",
       "2      Albania  1800      0.001  CO2 Emissions (Metric Tons)\n",
       "3      Andorra  1800      0.333  CO2 Emissions (Metric Tons)\n",
       "4          UAE  1800      0.063  CO2 Emissions (Metric Tons)"
      ]
     },
     "execution_count": 18,
     "metadata": {},
     "output_type": "execute_result"
    }
   ],
   "source": [
    "problem_indices = [39517,39711,39905,40099,41069,41263,41457]\n",
    "for idx in problem_indices:\n",
    "    CO2melt[\"Emissions\"][idx] = '-' + CO2melt[\"Emissions\"][idx][1:6]  \n",
    "# CO2melt[\"Emissions\"][39517] = '-' + CO2melt[\"Emissions\"][39517][1:6]\n",
    "# CO2melt[\"Emissions\"][39711] = '-' + CO2melt[\"Emissions\"][39711][1:6]\n",
    "# CO2melt[\"Emissions\"][39905] = '-' + CO2melt[\"Emissions\"][39905][1:6]\n",
    "# CO2melt[\"Emissions\"][40099] = '-' + CO2melt[\"Emissions\"][40099][1:6]\n",
    "# CO2melt[\"Emissions\"][41069] = '-' + CO2melt[\"Emissions\"][41069][1:6]\n",
    "# CO2melt[\"Emissions\"][41263] = '-' + CO2melt[\"Emissions\"][41263][1:6]\n",
    "# CO2melt[\"Emissions\"][41457] = '-' + CO2melt[\"Emissions\"][41457][1:6]\n",
    "\n",
    "CO2melt[\"Emissions\"] = pd.to_numeric(CO2melt[\"Emissions\"])\n",
    "# CO2melt[\"Emissions\"] = CO2melt[\"Emissions per Capita\"] * pop_melt[\"Population\"]\n",
    "CO2melt.head()"
   ]
  },
  {
   "cell_type": "markdown",
   "id": "36ce8459",
   "metadata": {},
   "source": [
    "With CO2 emissions down, let's take a look at gdp data. The GDP data is similar to the CO2 emissions data in the sense that columns are individual years and rows are individual countries. For the purposes of this project, it'd be easiest to melt the data"
   ]
  },
  {
   "cell_type": "code",
   "execution_count": 19,
   "id": "b2275f2d",
   "metadata": {},
   "outputs": [
    {
     "data": {
      "text/html": [
       "<div>\n",
       "<style scoped>\n",
       "    .dataframe tbody tr th:only-of-type {\n",
       "        vertical-align: middle;\n",
       "    }\n",
       "\n",
       "    .dataframe tbody tr th {\n",
       "        vertical-align: top;\n",
       "    }\n",
       "\n",
       "    .dataframe thead th {\n",
       "        text-align: right;\n",
       "    }\n",
       "</style>\n",
       "<table border=\"1\" class=\"dataframe\">\n",
       "  <thead>\n",
       "    <tr style=\"text-align: right;\">\n",
       "      <th></th>\n",
       "      <th>Country Name</th>\n",
       "      <th>Country Code</th>\n",
       "      <th>Indicator Name</th>\n",
       "      <th>Indicator Code</th>\n",
       "      <th>1960</th>\n",
       "      <th>1961</th>\n",
       "      <th>1962</th>\n",
       "      <th>1963</th>\n",
       "      <th>1964</th>\n",
       "      <th>1965</th>\n",
       "      <th>...</th>\n",
       "      <th>2016</th>\n",
       "      <th>2017</th>\n",
       "      <th>2018</th>\n",
       "      <th>2019</th>\n",
       "      <th>2020</th>\n",
       "      <th>2021</th>\n",
       "      <th>2022</th>\n",
       "      <th>2023</th>\n",
       "      <th>2024</th>\n",
       "      <th>Unnamed: 69</th>\n",
       "    </tr>\n",
       "  </thead>\n",
       "  <tbody>\n",
       "    <tr>\n",
       "      <th>0</th>\n",
       "      <td>Aruba</td>\n",
       "      <td>ABW</td>\n",
       "      <td>GDP per capita growth (annual %)</td>\n",
       "      <td>NY.GDP.PCAP.KD.ZG</td>\n",
       "      <td>NaN</td>\n",
       "      <td>NaN</td>\n",
       "      <td>NaN</td>\n",
       "      <td>NaN</td>\n",
       "      <td>NaN</td>\n",
       "      <td>NaN</td>\n",
       "      <td>...</td>\n",
       "      <td>0.951538</td>\n",
       "      <td>7.040657</td>\n",
       "      <td>2.234429</td>\n",
       "      <td>-2.496550</td>\n",
       "      <td>-25.793229</td>\n",
       "      <td>25.154964</td>\n",
       "      <td>8.912308</td>\n",
       "      <td>4.216132</td>\n",
       "      <td>NaN</td>\n",
       "      <td>NaN</td>\n",
       "    </tr>\n",
       "    <tr>\n",
       "      <th>1</th>\n",
       "      <td>Africa Eastern and Southern</td>\n",
       "      <td>AFE</td>\n",
       "      <td>GDP per capita growth (annual %)</td>\n",
       "      <td>NY.GDP.PCAP.KD.ZG</td>\n",
       "      <td>NaN</td>\n",
       "      <td>-2.132940</td>\n",
       "      <td>5.008777</td>\n",
       "      <td>2.794386</td>\n",
       "      <td>1.829575</td>\n",
       "      <td>2.245805</td>\n",
       "      <td>...</td>\n",
       "      <td>-0.467421</td>\n",
       "      <td>0.018464</td>\n",
       "      <td>-0.104064</td>\n",
       "      <td>-0.543715</td>\n",
       "      <td>-5.447021</td>\n",
       "      <td>1.829597</td>\n",
       "      <td>0.905330</td>\n",
       "      <td>-0.645084</td>\n",
       "      <td>0.256613</td>\n",
       "      <td>NaN</td>\n",
       "    </tr>\n",
       "    <tr>\n",
       "      <th>2</th>\n",
       "      <td>Afghanistan</td>\n",
       "      <td>AFG</td>\n",
       "      <td>GDP per capita growth (annual %)</td>\n",
       "      <td>NY.GDP.PCAP.KD.ZG</td>\n",
       "      <td>NaN</td>\n",
       "      <td>NaN</td>\n",
       "      <td>NaN</td>\n",
       "      <td>NaN</td>\n",
       "      <td>NaN</td>\n",
       "      <td>NaN</td>\n",
       "      <td>...</td>\n",
       "      <td>-0.300121</td>\n",
       "      <td>-0.195570</td>\n",
       "      <td>-1.713743</td>\n",
       "      <td>0.856295</td>\n",
       "      <td>-5.382515</td>\n",
       "      <td>-22.584482</td>\n",
       "      <td>-7.576669</td>\n",
       "      <td>0.106093</td>\n",
       "      <td>NaN</td>\n",
       "      <td>NaN</td>\n",
       "    </tr>\n",
       "    <tr>\n",
       "      <th>3</th>\n",
       "      <td>Africa Western and Central</td>\n",
       "      <td>AFW</td>\n",
       "      <td>GDP per capita growth (annual %)</td>\n",
       "      <td>NY.GDP.PCAP.KD.ZG</td>\n",
       "      <td>NaN</td>\n",
       "      <td>-0.251142</td>\n",
       "      <td>1.538396</td>\n",
       "      <td>4.741446</td>\n",
       "      <td>3.087620</td>\n",
       "      <td>1.823720</td>\n",
       "      <td>...</td>\n",
       "      <td>-2.448451</td>\n",
       "      <td>-0.355460</td>\n",
       "      <td>0.330192</td>\n",
       "      <td>0.792526</td>\n",
       "      <td>-3.321745</td>\n",
       "      <td>1.599746</td>\n",
       "      <td>1.578046</td>\n",
       "      <td>0.920848</td>\n",
       "      <td>1.707193</td>\n",
       "      <td>NaN</td>\n",
       "    </tr>\n",
       "    <tr>\n",
       "      <th>4</th>\n",
       "      <td>Angola</td>\n",
       "      <td>AGO</td>\n",
       "      <td>GDP per capita growth (annual %)</td>\n",
       "      <td>NY.GDP.PCAP.KD.ZG</td>\n",
       "      <td>NaN</td>\n",
       "      <td>NaN</td>\n",
       "      <td>NaN</td>\n",
       "      <td>NaN</td>\n",
       "      <td>NaN</td>\n",
       "      <td>NaN</td>\n",
       "      <td>...</td>\n",
       "      <td>-6.002649</td>\n",
       "      <td>-3.620758</td>\n",
       "      <td>-4.665970</td>\n",
       "      <td>-4.010017</td>\n",
       "      <td>-8.672076</td>\n",
       "      <td>-1.969591</td>\n",
       "      <td>-0.143628</td>\n",
       "      <td>-1.988293</td>\n",
       "      <td>1.292931</td>\n",
       "      <td>NaN</td>\n",
       "    </tr>\n",
       "  </tbody>\n",
       "</table>\n",
       "<p>5 rows × 70 columns</p>\n",
       "</div>"
      ],
      "text/plain": [
       "                  Country Name Country Code                    Indicator Name  \\\n",
       "0                        Aruba          ABW  GDP per capita growth (annual %)   \n",
       "1  Africa Eastern and Southern          AFE  GDP per capita growth (annual %)   \n",
       "2                  Afghanistan          AFG  GDP per capita growth (annual %)   \n",
       "3   Africa Western and Central          AFW  GDP per capita growth (annual %)   \n",
       "4                       Angola          AGO  GDP per capita growth (annual %)   \n",
       "\n",
       "      Indicator Code  1960      1961      1962      1963      1964      1965  \\\n",
       "0  NY.GDP.PCAP.KD.ZG   NaN       NaN       NaN       NaN       NaN       NaN   \n",
       "1  NY.GDP.PCAP.KD.ZG   NaN -2.132940  5.008777  2.794386  1.829575  2.245805   \n",
       "2  NY.GDP.PCAP.KD.ZG   NaN       NaN       NaN       NaN       NaN       NaN   \n",
       "3  NY.GDP.PCAP.KD.ZG   NaN -0.251142  1.538396  4.741446  3.087620  1.823720   \n",
       "4  NY.GDP.PCAP.KD.ZG   NaN       NaN       NaN       NaN       NaN       NaN   \n",
       "\n",
       "   ...      2016      2017      2018      2019       2020       2021  \\\n",
       "0  ...  0.951538  7.040657  2.234429 -2.496550 -25.793229  25.154964   \n",
       "1  ... -0.467421  0.018464 -0.104064 -0.543715  -5.447021   1.829597   \n",
       "2  ... -0.300121 -0.195570 -1.713743  0.856295  -5.382515 -22.584482   \n",
       "3  ... -2.448451 -0.355460  0.330192  0.792526  -3.321745   1.599746   \n",
       "4  ... -6.002649 -3.620758 -4.665970 -4.010017  -8.672076  -1.969591   \n",
       "\n",
       "       2022      2023      2024  Unnamed: 69  \n",
       "0  8.912308  4.216132       NaN          NaN  \n",
       "1  0.905330 -0.645084  0.256613          NaN  \n",
       "2 -7.576669  0.106093       NaN          NaN  \n",
       "3  1.578046  0.920848  1.707193          NaN  \n",
       "4 -0.143628 -1.988293  1.292931          NaN  \n",
       "\n",
       "[5 rows x 70 columns]"
      ]
     },
     "execution_count": 19,
     "metadata": {},
     "output_type": "execute_result"
    }
   ],
   "source": [
    "gdp.head(n=5)"
   ]
  },
  {
   "cell_type": "code",
   "execution_count": 20,
   "id": "97149822",
   "metadata": {},
   "outputs": [
    {
     "data": {
      "text/plain": [
       "Index(['Country Name', 'Country Code', 'Indicator Name', 'Indicator Code',\n",
       "       '1960', '1961', '1962', '1963', '1964', '1965', '1966', '1967', '1968',\n",
       "       '1969', '1970', '1971', '1972', '1973', '1974', '1975', '1976', '1977',\n",
       "       '1978', '1979', '1980', '1981', '1982', '1983', '1984', '1985', '1986',\n",
       "       '1987', '1988', '1989', '1990', '1991', '1992', '1993', '1994', '1995',\n",
       "       '1996', '1997', '1998', '1999', '2000', '2001', '2002', '2003', '2004',\n",
       "       '2005', '2006', '2007', '2008', '2009', '2010', '2011', '2012', '2013',\n",
       "       '2014', '2015', '2016', '2017', '2018', '2019', '2020', '2021', '2022',\n",
       "       '2023', '2024', 'Unnamed: 69'],\n",
       "      dtype='object')"
      ]
     },
     "execution_count": 20,
     "metadata": {},
     "output_type": "execute_result"
    }
   ],
   "source": [
    "gdp.columns"
   ]
  },
  {
   "cell_type": "code",
   "execution_count": 21,
   "id": "8aa450a7",
   "metadata": {},
   "outputs": [
    {
     "data": {
      "text/html": [
       "<div>\n",
       "<style scoped>\n",
       "    .dataframe tbody tr th:only-of-type {\n",
       "        vertical-align: middle;\n",
       "    }\n",
       "\n",
       "    .dataframe tbody tr th {\n",
       "        vertical-align: top;\n",
       "    }\n",
       "\n",
       "    .dataframe thead th {\n",
       "        text-align: right;\n",
       "    }\n",
       "</style>\n",
       "<table border=\"1\" class=\"dataframe\">\n",
       "  <thead>\n",
       "    <tr style=\"text-align: right;\">\n",
       "      <th></th>\n",
       "      <th>Country</th>\n",
       "      <th>Year</th>\n",
       "      <th>gdp_growth</th>\n",
       "      <th>Label</th>\n",
       "    </tr>\n",
       "  </thead>\n",
       "  <tbody>\n",
       "    <tr>\n",
       "      <th>4033</th>\n",
       "      <td>Congo, Dem. Rep.</td>\n",
       "      <td>1975</td>\n",
       "      <td>-7.467274</td>\n",
       "      <td>GDP Growth/Capita (%)</td>\n",
       "    </tr>\n",
       "    <tr>\n",
       "      <th>12349</th>\n",
       "      <td>Iraq</td>\n",
       "      <td>2006</td>\n",
       "      <td>4.866525</td>\n",
       "      <td>GDP Growth/Capita (%)</td>\n",
       "    </tr>\n",
       "    <tr>\n",
       "      <th>928</th>\n",
       "      <td>Lebanon</td>\n",
       "      <td>1963</td>\n",
       "      <td>NaN</td>\n",
       "      <td>GDP Growth/Capita (%)</td>\n",
       "    </tr>\n",
       "  </tbody>\n",
       "</table>\n",
       "</div>"
      ],
      "text/plain": [
       "                Country  Year  gdp_growth                  Label\n",
       "4033   Congo, Dem. Rep.  1975   -7.467274  GDP Growth/Capita (%)\n",
       "12349              Iraq  2006    4.866525  GDP Growth/Capita (%)\n",
       "928             Lebanon  1963         NaN  GDP Growth/Capita (%)"
      ]
     },
     "execution_count": 21,
     "metadata": {},
     "output_type": "execute_result"
    }
   ],
   "source": [
    "gdp_cleaned = gdp.drop(columns = [\"Country Code\", \"Indicator Name\", \"Indicator Code\", \"Unnamed: 69\"])\n",
    "gdp_melt = pd.melt(\n",
    "    gdp_cleaned,\n",
    "    id_vars=[\"Country Name\"],\n",
    "    var_name=\"Year\",         \n",
    "    value_name=\"gdp_growth\"   \n",
    ")\n",
    "gdp_melt = gdp_melt.rename(columns = {\"Country Name\": \"Country\"})\n",
    "gdp_melt[\"Year\"] = pd.to_numeric(gdp_melt[\"Year\"])\n",
    "gdp_melt[\"Label\"] = \"GDP Growth/Capita (%)\"\n",
    "gdp_melt.sample(n=3)"
   ]
  },
  {
   "cell_type": "markdown",
   "id": "6508f197",
   "metadata": {},
   "source": [
    "Our CO2 and GDP growth tables look great, let's move forward with the energy use table. We're going to use a similar process with this table as we did with the others. Let's first observe it and melt it"
   ]
  },
  {
   "cell_type": "code",
   "execution_count": 22,
   "id": "ba2de16d",
   "metadata": {},
   "outputs": [
    {
     "data": {
      "text/html": [
       "<div>\n",
       "<style scoped>\n",
       "    .dataframe tbody tr th:only-of-type {\n",
       "        vertical-align: middle;\n",
       "    }\n",
       "\n",
       "    .dataframe tbody tr th {\n",
       "        vertical-align: top;\n",
       "    }\n",
       "\n",
       "    .dataframe thead th {\n",
       "        text-align: right;\n",
       "    }\n",
       "</style>\n",
       "<table border=\"1\" class=\"dataframe\">\n",
       "  <thead>\n",
       "    <tr style=\"text-align: right;\">\n",
       "      <th></th>\n",
       "      <th>Country</th>\n",
       "      <th>Year</th>\n",
       "      <th>energy_use</th>\n",
       "      <th>Label</th>\n",
       "    </tr>\n",
       "  </thead>\n",
       "  <tbody>\n",
       "    <tr>\n",
       "      <th>15237</th>\n",
       "      <td>Finland</td>\n",
       "      <td>2017</td>\n",
       "      <td>6070.157508</td>\n",
       "      <td>Energy Use (kg, oil-eq./capita)</td>\n",
       "    </tr>\n",
       "    <tr>\n",
       "      <th>6895</th>\n",
       "      <td>Tuvalu</td>\n",
       "      <td>1985</td>\n",
       "      <td>NaN</td>\n",
       "      <td>Energy Use (kg, oil-eq./capita)</td>\n",
       "    </tr>\n",
       "    <tr>\n",
       "      <th>16503</th>\n",
       "      <td>American Samoa</td>\n",
       "      <td>2022</td>\n",
       "      <td>NaN</td>\n",
       "      <td>Energy Use (kg, oil-eq./capita)</td>\n",
       "    </tr>\n",
       "  </tbody>\n",
       "</table>\n",
       "</div>"
      ],
      "text/plain": [
       "              Country  Year   energy_use                            Label\n",
       "15237         Finland  2017  6070.157508  Energy Use (kg, oil-eq./capita)\n",
       "6895           Tuvalu  1985          NaN  Energy Use (kg, oil-eq./capita)\n",
       "16503  American Samoa  2022          NaN  Energy Use (kg, oil-eq./capita)"
      ]
     },
     "execution_count": 22,
     "metadata": {},
     "output_type": "execute_result"
    }
   ],
   "source": [
    "energy_use_cleaned = energy_use.drop(columns = [\"Country Code\", \"Indicator Name\", \"Indicator Code\", \"Unnamed: 69\"])\n",
    "energy_use_melt = pd.melt(\n",
    "    energy_use_cleaned,\n",
    "    id_vars = [\"Country Name\"],\n",
    "    var_name = \"Year\",\n",
    "    value_name = \"energy_use\").rename(columns = {\"Country Name\":\"Country\"})\n",
    "energy_use_melt[\"Year\"] = pd.to_numeric(energy_use_melt[\"Year\"])\n",
    "energy_use_melt[\"Label\"] = \"Energy Use (kg, oil-eq./capita)\"\n",
    "energy_use_melt.sample(n=3)"
   ]
  },
  {
   "cell_type": "markdown",
   "id": "1e41689f",
   "metadata": {},
   "source": [
    "Let's take a look at disasters"
   ]
  },
  {
   "cell_type": "code",
   "execution_count": 23,
   "id": "25dbeab9",
   "metadata": {},
   "outputs": [
    {
     "data": {
      "text/plain": [
       "array(['Drought', 'Earthquake', 'Epidemic', 'Extreme temperature',\n",
       "       'Flood', 'Infestation', 'Mass movement (dry)',\n",
       "       'Mass movement (wet)', 'Storm', 'Volcanic activity', 'Wildfire'],\n",
       "      dtype=object)"
      ]
     },
     "execution_count": 23,
     "metadata": {},
     "output_type": "execute_result"
    }
   ],
   "source": [
    "np.unique(disasters[\"Disaster Type\"])"
   ]
  },
  {
   "cell_type": "markdown",
   "id": "fb12dcbf",
   "metadata": {},
   "source": [
    "As we can see here, there is a wide variety of disasters we could work with. I think a particularly interesting disaster to explore would be storms, given the Philippines' status as a tropical and typhoon prone country."
   ]
  },
  {
   "cell_type": "code",
   "execution_count": 24,
   "id": "75a69e92",
   "metadata": {},
   "outputs": [
    {
     "data": {
      "text/html": [
       "<div>\n",
       "<style scoped>\n",
       "    .dataframe tbody tr th:only-of-type {\n",
       "        vertical-align: middle;\n",
       "    }\n",
       "\n",
       "    .dataframe tbody tr th {\n",
       "        vertical-align: top;\n",
       "    }\n",
       "\n",
       "    .dataframe thead th {\n",
       "        text-align: right;\n",
       "    }\n",
       "</style>\n",
       "<table border=\"1\" class=\"dataframe\">\n",
       "  <thead>\n",
       "    <tr style=\"text-align: right;\">\n",
       "      <th></th>\n",
       "      <th>DisNo.</th>\n",
       "      <th>Historic</th>\n",
       "      <th>Classification Key</th>\n",
       "      <th>Disaster Group</th>\n",
       "      <th>Disaster Subgroup</th>\n",
       "      <th>Disaster Type</th>\n",
       "      <th>Disaster Subtype</th>\n",
       "      <th>External IDs</th>\n",
       "      <th>Event Name</th>\n",
       "      <th>ISO</th>\n",
       "      <th>...</th>\n",
       "      <th>Reconstruction Costs ('000 US$)</th>\n",
       "      <th>Reconstruction Costs, Adjusted ('000 US$)</th>\n",
       "      <th>Insured Damage ('000 US$)</th>\n",
       "      <th>Insured Damage, Adjusted ('000 US$)</th>\n",
       "      <th>Total Damage ('000 US$)</th>\n",
       "      <th>Total Damage, Adjusted ('000 US$)</th>\n",
       "      <th>CPI</th>\n",
       "      <th>Admin Units</th>\n",
       "      <th>Entry Date</th>\n",
       "      <th>Last Update</th>\n",
       "    </tr>\n",
       "  </thead>\n",
       "  <tbody>\n",
       "    <tr>\n",
       "      <th>0</th>\n",
       "      <td>1905-0004-PHL</td>\n",
       "      <td>Yes</td>\n",
       "      <td>nat-met-sto-tro</td>\n",
       "      <td>Natural</td>\n",
       "      <td>Meteorological</td>\n",
       "      <td>Storm</td>\n",
       "      <td>Tropical cyclone</td>\n",
       "      <td>NaN</td>\n",
       "      <td>NaN</td>\n",
       "      <td>PHL</td>\n",
       "      <td>...</td>\n",
       "      <td>NaN</td>\n",
       "      <td>NaN</td>\n",
       "      <td>NaN</td>\n",
       "      <td>NaN</td>\n",
       "      <td>NaN</td>\n",
       "      <td>NaN</td>\n",
       "      <td>2.864401</td>\n",
       "      <td>NaN</td>\n",
       "      <td>2003-07-01</td>\n",
       "      <td>2023-09-25</td>\n",
       "    </tr>\n",
       "    <tr>\n",
       "      <th>2</th>\n",
       "      <td>1912-0010-PHL</td>\n",
       "      <td>Yes</td>\n",
       "      <td>nat-met-sto-tro</td>\n",
       "      <td>Natural</td>\n",
       "      <td>Meteorological</td>\n",
       "      <td>Storm</td>\n",
       "      <td>Tropical cyclone</td>\n",
       "      <td>NaN</td>\n",
       "      <td>NaN</td>\n",
       "      <td>PHL</td>\n",
       "      <td>...</td>\n",
       "      <td>NaN</td>\n",
       "      <td>NaN</td>\n",
       "      <td>NaN</td>\n",
       "      <td>NaN</td>\n",
       "      <td>10000.0</td>\n",
       "      <td>325036.0</td>\n",
       "      <td>3.076579</td>\n",
       "      <td>NaN</td>\n",
       "      <td>2003-07-01</td>\n",
       "      <td>2023-09-25</td>\n",
       "    </tr>\n",
       "    <tr>\n",
       "      <th>5</th>\n",
       "      <td>1931-0008-PHL</td>\n",
       "      <td>Yes</td>\n",
       "      <td>nat-met-sto-tro</td>\n",
       "      <td>Natural</td>\n",
       "      <td>Meteorological</td>\n",
       "      <td>Storm</td>\n",
       "      <td>Tropical cyclone</td>\n",
       "      <td>NaN</td>\n",
       "      <td>NaN</td>\n",
       "      <td>PHL</td>\n",
       "      <td>...</td>\n",
       "      <td>NaN</td>\n",
       "      <td>NaN</td>\n",
       "      <td>NaN</td>\n",
       "      <td>NaN</td>\n",
       "      <td>NaN</td>\n",
       "      <td>NaN</td>\n",
       "      <td>4.844817</td>\n",
       "      <td>NaN</td>\n",
       "      <td>2003-07-01</td>\n",
       "      <td>2023-09-25</td>\n",
       "    </tr>\n",
       "  </tbody>\n",
       "</table>\n",
       "<p>3 rows × 46 columns</p>\n",
       "</div>"
      ],
      "text/plain": [
       "          DisNo. Historic Classification Key Disaster Group Disaster Subgroup  \\\n",
       "0  1905-0004-PHL      Yes    nat-met-sto-tro        Natural    Meteorological   \n",
       "2  1912-0010-PHL      Yes    nat-met-sto-tro        Natural    Meteorological   \n",
       "5  1931-0008-PHL      Yes    nat-met-sto-tro        Natural    Meteorological   \n",
       "\n",
       "  Disaster Type  Disaster Subtype External IDs Event Name  ISO  ...  \\\n",
       "0         Storm  Tropical cyclone          NaN        NaN  PHL  ...   \n",
       "2         Storm  Tropical cyclone          NaN        NaN  PHL  ...   \n",
       "5         Storm  Tropical cyclone          NaN        NaN  PHL  ...   \n",
       "\n",
       "  Reconstruction Costs ('000 US$) Reconstruction Costs, Adjusted ('000 US$)  \\\n",
       "0                             NaN                                       NaN   \n",
       "2                             NaN                                       NaN   \n",
       "5                             NaN                                       NaN   \n",
       "\n",
       "  Insured Damage ('000 US$) Insured Damage, Adjusted ('000 US$)  \\\n",
       "0                       NaN                                 NaN   \n",
       "2                       NaN                                 NaN   \n",
       "5                       NaN                                 NaN   \n",
       "\n",
       "  Total Damage ('000 US$) Total Damage, Adjusted ('000 US$)       CPI  \\\n",
       "0                     NaN                               NaN  2.864401   \n",
       "2                 10000.0                          325036.0  3.076579   \n",
       "5                     NaN                               NaN  4.844817   \n",
       "\n",
       "  Admin Units  Entry Date  Last Update  \n",
       "0         NaN  2003-07-01   2023-09-25  \n",
       "2         NaN  2003-07-01   2023-09-25  \n",
       "5         NaN  2003-07-01   2023-09-25  \n",
       "\n",
       "[3 rows x 46 columns]"
      ]
     },
     "execution_count": 24,
     "metadata": {},
     "output_type": "execute_result"
    }
   ],
   "source": [
    "disasters_storms = disasters[disasters[\"Disaster Type\"] == \"Storm\"]\n",
    "disasters_storms.head(n=3)"
   ]
  },
  {
   "cell_type": "code",
   "execution_count": 25,
   "id": "05937b5c",
   "metadata": {},
   "outputs": [
    {
     "data": {
      "text/html": [
       "<div>\n",
       "<style scoped>\n",
       "    .dataframe tbody tr th:only-of-type {\n",
       "        vertical-align: middle;\n",
       "    }\n",
       "\n",
       "    .dataframe tbody tr th {\n",
       "        vertical-align: top;\n",
       "    }\n",
       "\n",
       "    .dataframe thead th {\n",
       "        text-align: right;\n",
       "    }\n",
       "</style>\n",
       "<table border=\"1\" class=\"dataframe\">\n",
       "  <thead>\n",
       "    <tr style=\"text-align: right;\">\n",
       "      <th></th>\n",
       "      <th>Year</th>\n",
       "      <th>Count</th>\n",
       "      <th>Label</th>\n",
       "    </tr>\n",
       "  </thead>\n",
       "  <tbody>\n",
       "    <tr>\n",
       "      <th>33</th>\n",
       "      <td>1977</td>\n",
       "      <td>5</td>\n",
       "      <td>Number of Storms</td>\n",
       "    </tr>\n",
       "    <tr>\n",
       "      <th>32</th>\n",
       "      <td>1976</td>\n",
       "      <td>3</td>\n",
       "      <td>Number of Storms</td>\n",
       "    </tr>\n",
       "    <tr>\n",
       "      <th>34</th>\n",
       "      <td>1978</td>\n",
       "      <td>9</td>\n",
       "      <td>Number of Storms</td>\n",
       "    </tr>\n",
       "  </tbody>\n",
       "</table>\n",
       "</div>"
      ],
      "text/plain": [
       "    Year  Count             Label\n",
       "33  1977      5  Number of Storms\n",
       "32  1976      3  Number of Storms\n",
       "34  1978      9  Number of Storms"
      ]
     },
     "execution_count": 25,
     "metadata": {},
     "output_type": "execute_result"
    }
   ],
   "source": [
    "storm_count = disasters_storms[[\"Start Year\", \"DisNo.\"]]\n",
    "storm_count = storm_count.groupby(\"Start Year\").count().reset_index()\n",
    "storm_count = storm_count.rename(columns = {\"Start Year\": \"Year\", \"DisNo.\":\"Count\"})\n",
    "storm_count[\"Label\"] = \"Number of Storms\"\n",
    "storm_count.sample(n=3)"
   ]
  },
  {
   "cell_type": "markdown",
   "id": "0de9171b",
   "metadata": {},
   "source": [
    "Let's now take a look at our final dataframe temperature."
   ]
  },
  {
   "cell_type": "code",
   "execution_count": 26,
   "id": "e6496c12",
   "metadata": {},
   "outputs": [
    {
     "data": {
      "text/html": [
       "<div>\n",
       "<style scoped>\n",
       "    .dataframe tbody tr th:only-of-type {\n",
       "        vertical-align: middle;\n",
       "    }\n",
       "\n",
       "    .dataframe tbody tr th {\n",
       "        vertical-align: top;\n",
       "    }\n",
       "\n",
       "    .dataframe thead th {\n",
       "        text-align: right;\n",
       "    }\n",
       "</style>\n",
       "<table border=\"1\" class=\"dataframe\">\n",
       "  <thead>\n",
       "    <tr style=\"text-align: right;\">\n",
       "      <th></th>\n",
       "      <th>code</th>\n",
       "      <th>name</th>\n",
       "      <th>1950-07</th>\n",
       "      <th>1951-07</th>\n",
       "      <th>1952-07</th>\n",
       "      <th>1953-07</th>\n",
       "      <th>1954-07</th>\n",
       "      <th>1955-07</th>\n",
       "      <th>1956-07</th>\n",
       "      <th>1957-07</th>\n",
       "      <th>...</th>\n",
       "      <th>2005-07</th>\n",
       "      <th>2006-07</th>\n",
       "      <th>2007-07</th>\n",
       "      <th>2008-07</th>\n",
       "      <th>2009-07</th>\n",
       "      <th>2010-07</th>\n",
       "      <th>2011-07</th>\n",
       "      <th>2012-07</th>\n",
       "      <th>2013-07</th>\n",
       "      <th>2014-07</th>\n",
       "    </tr>\n",
       "  </thead>\n",
       "  <tbody>\n",
       "    <tr>\n",
       "      <th>0</th>\n",
       "      <td>PHL</td>\n",
       "      <td>Philippines</td>\n",
       "      <td>25.75</td>\n",
       "      <td>25.69</td>\n",
       "      <td>25.65</td>\n",
       "      <td>25.66</td>\n",
       "      <td>25.64</td>\n",
       "      <td>25.75</td>\n",
       "      <td>25.67</td>\n",
       "      <td>25.65</td>\n",
       "      <td>...</td>\n",
       "      <td>26.14</td>\n",
       "      <td>26.08</td>\n",
       "      <td>26.07</td>\n",
       "      <td>26.08</td>\n",
       "      <td>26.18</td>\n",
       "      <td>26.22</td>\n",
       "      <td>26.15</td>\n",
       "      <td>26.27</td>\n",
       "      <td>26.24</td>\n",
       "      <td>26.25</td>\n",
       "    </tr>\n",
       "  </tbody>\n",
       "</table>\n",
       "<p>1 rows × 67 columns</p>\n",
       "</div>"
      ],
      "text/plain": [
       "  code         name  1950-07  1951-07  1952-07  1953-07  1954-07  1955-07  \\\n",
       "0  PHL  Philippines    25.75    25.69    25.65    25.66    25.64    25.75   \n",
       "\n",
       "   1956-07  1957-07  ...  2005-07  2006-07  2007-07  2008-07  2009-07  \\\n",
       "0    25.67    25.65  ...    26.14    26.08    26.07    26.08    26.18   \n",
       "\n",
       "   2010-07  2011-07  2012-07  2013-07  2014-07  \n",
       "0    26.22    26.15    26.27    26.24    26.25  \n",
       "\n",
       "[1 rows x 67 columns]"
      ]
     },
     "execution_count": 26,
     "metadata": {},
     "output_type": "execute_result"
    }
   ],
   "source": [
    "temp"
   ]
  },
  {
   "cell_type": "markdown",
   "id": "f2ef4cf8",
   "metadata": {},
   "source": [
    "Only one row, makes this a bit easier to work with. Our first step will be to clean up the years. Lets just take the first four values in the dates to extract the year. From there, we can melt!"
   ]
  },
  {
   "cell_type": "code",
   "execution_count": 27,
   "id": "4858fd75",
   "metadata": {},
   "outputs": [
    {
     "data": {
      "text/html": [
       "<div>\n",
       "<style scoped>\n",
       "    .dataframe tbody tr th:only-of-type {\n",
       "        vertical-align: middle;\n",
       "    }\n",
       "\n",
       "    .dataframe tbody tr th {\n",
       "        vertical-align: top;\n",
       "    }\n",
       "\n",
       "    .dataframe thead th {\n",
       "        text-align: right;\n",
       "    }\n",
       "</style>\n",
       "<table border=\"1\" class=\"dataframe\">\n",
       "  <thead>\n",
       "    <tr style=\"text-align: right;\">\n",
       "      <th></th>\n",
       "      <th>Country</th>\n",
       "      <th>Year</th>\n",
       "      <th>Mean Temperature</th>\n",
       "      <th>Label</th>\n",
       "    </tr>\n",
       "  </thead>\n",
       "  <tbody>\n",
       "    <tr>\n",
       "      <th>61</th>\n",
       "      <td>Philippines</td>\n",
       "      <td>2011</td>\n",
       "      <td>26.15</td>\n",
       "      <td>Average Temperature in Celsius</td>\n",
       "    </tr>\n",
       "    <tr>\n",
       "      <th>14</th>\n",
       "      <td>Philippines</td>\n",
       "      <td>1964</td>\n",
       "      <td>25.51</td>\n",
       "      <td>Average Temperature in Celsius</td>\n",
       "    </tr>\n",
       "    <tr>\n",
       "      <th>17</th>\n",
       "      <td>Philippines</td>\n",
       "      <td>1967</td>\n",
       "      <td>25.56</td>\n",
       "      <td>Average Temperature in Celsius</td>\n",
       "    </tr>\n",
       "  </tbody>\n",
       "</table>\n",
       "</div>"
      ],
      "text/plain": [
       "        Country  Year  Mean Temperature                           Label\n",
       "61  Philippines  2011             26.15  Average Temperature in Celsius\n",
       "14  Philippines  1964             25.51  Average Temperature in Celsius\n",
       "17  Philippines  1967             25.56  Average Temperature in Celsius"
      ]
     },
     "execution_count": 27,
     "metadata": {},
     "output_type": "execute_result"
    }
   ],
   "source": [
    "temp_clean = temp.drop(columns = [\"code\"])\n",
    "temp_melt = pd.melt(\n",
    "    temp_clean,\n",
    "    id_vars = [\"name\"],\n",
    "    var_name = \"Year\",\n",
    "    value_name = \"Mean Temperature\"\n",
    ")\n",
    "temp_melt[\"Year\"] = temp_melt[\"Year\"].str[0:4]\n",
    "temp_melt[\"Year\"] = pd.to_numeric(temp_melt[\"Year\"])\n",
    "temp_melt[\"Label\"] = \"Average Temperature in Celsius\"\n",
    "temp_melt = temp_melt.rename(columns = {\"name\":\"Country\"})\n",
    "temp_melt.sample(n=3)"
   ]
  },
  {
   "cell_type": "markdown",
   "id": "8c40bc16",
   "metadata": {},
   "source": [
    "### Extracting Data from the Philippines and Joining"
   ]
  },
  {
   "cell_type": "code",
   "execution_count": 28,
   "id": "b52dd9f6",
   "metadata": {},
   "outputs": [],
   "source": [
    "PH_CO2 = CO2melt[CO2melt[\"Country\"] == \"Philippines\"]\n",
    "PH_gdp = gdp_melt[gdp_melt[\"Country\"] == \"Philippines\"]\n",
    "PH_energy_use = energy_use_melt[energy_use_melt[\"Country\"] == \"Philippines\"]\n",
    "#both the disaster and temperature dataset already exclusively contain data from the Pbilippines"
   ]
  },
  {
   "cell_type": "code",
   "execution_count": 29,
   "id": "b85b0a58",
   "metadata": {},
   "outputs": [
    {
     "data": {
      "text/html": [
       "<div>\n",
       "<style scoped>\n",
       "    .dataframe tbody tr th:only-of-type {\n",
       "        vertical-align: middle;\n",
       "    }\n",
       "\n",
       "    .dataframe tbody tr th {\n",
       "        vertical-align: top;\n",
       "    }\n",
       "\n",
       "    .dataframe thead th {\n",
       "        text-align: right;\n",
       "    }\n",
       "</style>\n",
       "<table border=\"1\" class=\"dataframe\">\n",
       "  <thead>\n",
       "    <tr style=\"text-align: right;\">\n",
       "      <th></th>\n",
       "      <th>Country</th>\n",
       "      <th>Year</th>\n",
       "      <th>Emissions</th>\n",
       "      <th>Label</th>\n",
       "      <th>gdp_growth</th>\n",
       "      <th>energy_use</th>\n",
       "    </tr>\n",
       "  </thead>\n",
       "  <tbody>\n",
       "    <tr>\n",
       "      <th>28284</th>\n",
       "      <td>Sierra Leone</td>\n",
       "      <td>1945</td>\n",
       "      <td>0.068</td>\n",
       "      <td>CO2 Emissions (Metric Tons)</td>\n",
       "      <td>NaN</td>\n",
       "      <td>NaN</td>\n",
       "    </tr>\n",
       "    <tr>\n",
       "      <th>51092</th>\n",
       "      <td>Italy</td>\n",
       "      <td>1989</td>\n",
       "      <td>NaN</td>\n",
       "      <td>GDP Growth/Capita (%)</td>\n",
       "      <td>3.310862</td>\n",
       "      <td>NaN</td>\n",
       "    </tr>\n",
       "    <tr>\n",
       "      <th>8825</th>\n",
       "      <td>Kuwait</td>\n",
       "      <td>1845</td>\n",
       "      <td>1.320</td>\n",
       "      <td>CO2 Emissions (Metric Tons)</td>\n",
       "      <td>NaN</td>\n",
       "      <td>NaN</td>\n",
       "    </tr>\n",
       "  </tbody>\n",
       "</table>\n",
       "</div>"
      ],
      "text/plain": [
       "            Country  Year  Emissions                        Label  gdp_growth  \\\n",
       "28284  Sierra Leone  1945      0.068  CO2 Emissions (Metric Tons)         NaN   \n",
       "51092         Italy  1989        NaN        GDP Growth/Capita (%)    3.310862   \n",
       "8825         Kuwait  1845      1.320  CO2 Emissions (Metric Tons)         NaN   \n",
       "\n",
       "       energy_use  \n",
       "28284         NaN  \n",
       "51092         NaN  \n",
       "8825          NaN  "
      ]
     },
     "execution_count": 29,
     "metadata": {},
     "output_type": "execute_result"
    }
   ],
   "source": [
    "data_wide = (\n",
    "    CO2melt\n",
    "    .merge(gdp_melt, on=[\"Country\", \"Year\", \"Label\"], how=\"outer\")\n",
    "    .merge(energy_use_melt, on=[\"Country\", \"Year\", \"Label\"], how=\"outer\")\n",
    ")\n",
    "data_wide.sample(n=3)"
   ]
  },
  {
   "cell_type": "markdown",
   "id": "88c2b9b0",
   "metadata": {},
   "source": [
    "Let's melt this combined dataset"
   ]
  },
  {
   "cell_type": "code",
   "execution_count": 30,
   "id": "7cc31f1b",
   "metadata": {},
   "outputs": [
    {
     "data": {
      "text/html": [
       "<div>\n",
       "<style scoped>\n",
       "    .dataframe tbody tr th:only-of-type {\n",
       "        vertical-align: middle;\n",
       "    }\n",
       "\n",
       "    .dataframe tbody tr th {\n",
       "        vertical-align: top;\n",
       "    }\n",
       "\n",
       "    .dataframe thead th {\n",
       "        text-align: right;\n",
       "    }\n",
       "</style>\n",
       "<table border=\"1\" class=\"dataframe\">\n",
       "  <thead>\n",
       "    <tr style=\"text-align: right;\">\n",
       "      <th></th>\n",
       "      <th>Country</th>\n",
       "      <th>Year</th>\n",
       "      <th>Label</th>\n",
       "      <th>Indicator</th>\n",
       "      <th>Value</th>\n",
       "    </tr>\n",
       "  </thead>\n",
       "  <tbody>\n",
       "    <tr>\n",
       "      <th>207151</th>\n",
       "      <td>Sint Maarten (Dutch part)</td>\n",
       "      <td>1990</td>\n",
       "      <td>GDP Growth/Capita (%)</td>\n",
       "      <td>energy_use</td>\n",
       "      <td>NaN</td>\n",
       "    </tr>\n",
       "    <tr>\n",
       "      <th>118458</th>\n",
       "      <td>Guatemala</td>\n",
       "      <td>2009</td>\n",
       "      <td>CO2 Emissions (Metric Tons)</td>\n",
       "      <td>gdp_growth</td>\n",
       "      <td>NaN</td>\n",
       "    </tr>\n",
       "    <tr>\n",
       "      <th>161567</th>\n",
       "      <td>Ghana</td>\n",
       "      <td>1830</td>\n",
       "      <td>CO2 Emissions (Metric Tons)</td>\n",
       "      <td>energy_use</td>\n",
       "      <td>NaN</td>\n",
       "    </tr>\n",
       "  </tbody>\n",
       "</table>\n",
       "</div>"
      ],
      "text/plain": [
       "                          Country  Year                        Label  \\\n",
       "207151  Sint Maarten (Dutch part)  1990        GDP Growth/Capita (%)   \n",
       "118458                  Guatemala  2009  CO2 Emissions (Metric Tons)   \n",
       "161567                      Ghana  1830  CO2 Emissions (Metric Tons)   \n",
       "\n",
       "         Indicator  Value  \n",
       "207151  energy_use    NaN  \n",
       "118458  gdp_growth    NaN  \n",
       "161567  energy_use    NaN  "
      ]
     },
     "execution_count": 30,
     "metadata": {},
     "output_type": "execute_result"
    }
   ],
   "source": [
    "data_long = data_wide.melt(\n",
    "    id_vars=[\"Country\", \"Year\", \"Label\"], \n",
    "    var_name=\"Indicator\",               \n",
    "    value_name=\"Value\"                      \n",
    ")\n",
    "data_long.sample(n=3)"
   ]
  },
  {
   "cell_type": "markdown",
   "id": "fbfedd0d",
   "metadata": {},
   "source": [
    "We can seperate this data into the Philippines and rest of the World. Let's also remove na values while we're at it"
   ]
  },
  {
   "cell_type": "code",
   "execution_count": 31,
   "id": "1a25de4e",
   "metadata": {},
   "outputs": [],
   "source": [
    "data_long[\"Region\"] = np.where(\n",
    "    data_long[\"Country\"] == \"Philippines\",\n",
    "    \"Philippines\",\n",
    "    \"Rest of the World\"\n",
    ")\n",
    "data_long = (\n",
    "    data_long\n",
    "    .dropna()\n",
    "    .sort_values(by=\"Country\")\n",
    ")"
   ]
  },
  {
   "cell_type": "markdown",
   "id": "3f03dba5",
   "metadata": {},
   "source": [
    "### DATA VISUALIZATION"
   ]
  },
  {
   "cell_type": "markdown",
   "id": "dd543a47",
   "metadata": {},
   "source": [
    "There are some small issues that occured when importing the csv. The negative in front of this value is under a different code, so pandas is unable to convert the string into an integer. In the following cell, I will adjust some of these discrepencies"
   ]
  },
  {
   "cell_type": "markdown",
   "id": "27ce78ab",
   "metadata": {},
   "source": [
    "Let's take a look at global emissions per capita. The following table (data_long_gf) will sum up the emissions from all countries per year. We can then observe these values on a graph to see how emissions have changed over time"
   ]
  },
  {
   "cell_type": "code",
   "execution_count": 32,
   "id": "6f133940",
   "metadata": {},
   "outputs": [
    {
     "data": {
      "text/html": [
       "<div>\n",
       "<style scoped>\n",
       "    .dataframe tbody tr th:only-of-type {\n",
       "        vertical-align: middle;\n",
       "    }\n",
       "\n",
       "    .dataframe tbody tr th {\n",
       "        vertical-align: top;\n",
       "    }\n",
       "\n",
       "    .dataframe thead th {\n",
       "        text-align: right;\n",
       "    }\n",
       "</style>\n",
       "<table border=\"1\" class=\"dataframe\">\n",
       "  <thead>\n",
       "    <tr style=\"text-align: right;\">\n",
       "      <th></th>\n",
       "      <th>Year</th>\n",
       "      <th>Value</th>\n",
       "    </tr>\n",
       "  </thead>\n",
       "  <tbody>\n",
       "    <tr>\n",
       "      <th>0</th>\n",
       "      <td>1800</td>\n",
       "      <td>12.532</td>\n",
       "    </tr>\n",
       "    <tr>\n",
       "      <th>1</th>\n",
       "      <td>1801</td>\n",
       "      <td>12.573</td>\n",
       "    </tr>\n",
       "    <tr>\n",
       "      <th>2</th>\n",
       "      <td>1802</td>\n",
       "      <td>12.610</td>\n",
       "    </tr>\n",
       "  </tbody>\n",
       "</table>\n",
       "</div>"
      ],
      "text/plain": [
       "   Year   Value\n",
       "0  1800  12.532\n",
       "1  1801  12.573\n",
       "2  1802  12.610"
      ]
     },
     "execution_count": 32,
     "metadata": {},
     "output_type": "execute_result"
    }
   ],
   "source": [
    "data_long_gf = data_long[data_long[\"Indicator\"]==\"Emissions\"].groupby(\"Year\")[\"Value\"].sum().reset_index()\n",
    "data_long_gf.head(n=3)"
   ]
  },
  {
   "cell_type": "code",
   "execution_count": 33,
   "id": "24a7b35e",
   "metadata": {},
   "outputs": [
    {
     "data": {
      "text/plain": [
       "Text(0.5, 1.0, 'World $CO{2}$ Emissions per capita per Year (1800-2022)')"
      ]
     },
     "execution_count": 33,
     "metadata": {},
     "output_type": "execute_result"
    },
    {
     "data": {
      "image/png": "[encoded data removed]",
      "text/plain": [
       "<Figure size 640x480 with 1 Axes>"
      ]
     },
     "metadata": {},
     "output_type": "display_data"
    }
   ],
   "source": [
    "plt.plot(data_long_gf[\"Year\"], data_long_gf[\"Value\"], linewidth=1.5)\n",
    "plt.xlabel(\"Year\")\n",
    "plt.ylabel(\"Emissions (Metric Tonnes)\")\n",
    "plt.title(r\"World $CO{2}$ Emissions per capita per Year (1800-2022)\")"
   ]
  },
  {
   "cell_type": "markdown",
   "id": "9cb4fb0c",
   "metadata": {},
   "source": [
    "Let's now compare the emissions of all countries, with a special emphasis on the Philippines"
   ]
  },
  {
   "cell_type": "code",
   "execution_count": 34,
   "id": "b467683d",
   "metadata": {},
   "outputs": [
    {
     "name": "stderr",
     "output_type": "stream",
     "text": [
      "2025-08-17 19:15:07.983 WARNING streamlit.runtime.scriptrunner_utils.script_run_context: Thread 'MainThread': missing ScriptRunContext! This warning can be ignored when running in bare mode.\n",
      "2025-08-17 19:15:08.236 WARNING streamlit.runtime.scriptrunner_utils.script_run_context: Thread 'MainThread': missing ScriptRunContext! This warning can be ignored when running in bare mode.\n",
      "2025-08-17 19:15:08.269 \n",
      "  \u001b[33m\u001b[1mWarning:\u001b[0m to view this Streamlit app on a browser, run it with the following\n",
      "  command:\n",
      "\n",
      "    streamlit run /Users/aldrichgwynne/anaconda3/lib/python3.11/site-packages/ipykernel_launcher.py [ARGUMENTS]\n",
      "2025-08-17 19:15:08.269 Thread 'MainThread': missing ScriptRunContext! This warning can be ignored when running in bare mode.\n",
      "2025-08-17 19:15:08.269 Thread 'MainThread': missing ScriptRunContext! This warning can be ignored when running in bare mode.\n"
     ]
    },
    {
     "data": {
      "text/plain": [
       "DeltaGenerator()"
      ]
     },
     "execution_count": 34,
     "metadata": {},
     "output_type": "execute_result"
    },
    {
     "data": {
      "image/png": "[encoded data removed]",
      "text/plain": [
       "<Figure size 640x480 with 1 Axes>"
      ]
     },
     "metadata": {},
     "output_type": "display_data"
    }
   ],
   "source": [
    "data_long_emissions = data_long[data_long[\"Indicator\"]==\"Emissions\"]\n",
    "\n",
    "data_long_f_cg = data_long[data_long[\"Indicator\"]==\"Emissions\"].groupby([\"Year\",\"Country\"])[\"Value\"].sum().reset_index()\n",
    "fig, ax = plt.subplots()\n",
    "for country in data_long_emissions[\"Country\"].unique():\n",
    "    xf = data_long_f_cg.loc[data_long_f_cg[\"Country\"] == country]\n",
    "    ax.plot(xf[\"Year\"], xf[\"Value\"], color=\"gray\")\n",
    "    \n",
    "ph_data = data_long_f_cg[data_long_f_cg[\"Country\"] == \"Philippines\"]\n",
    "ax.plot(ph_data[\"Year\"], ph_data[\"Value\"], color=\"blue\", label=\"Philippines\", linewidth=2)\n",
    "ax.set_xlabel(\"Year\")\n",
    "ax.set_ylabel(\"Emissions (Metric Tonnes)\")\n",
    "ax.set_title(\"Country CO2 per capita Emissions per Year (1800-2022)\")\n",
    "ax.legend()\n",
    "st.pyplot(fig)"
   ]
  },
  {
   "cell_type": "markdown",
   "id": "8f8f71b2",
   "metadata": {},
   "source": [
    "As we can see the Philippines makes up a minor portion of global CO2 emissions. Just to compare, let's take a look at the top 10 countries"
   ]
  },
  {
   "cell_type": "code",
   "execution_count": null,
   "id": "37fb55ee",
   "metadata": {},
   "outputs": [],
   "source": []
  },
  {
   "cell_type": "code",
   "execution_count": 35,
   "id": "9732f5e1",
   "metadata": {},
   "outputs": [
    {
     "data": {
      "text/html": [
       "<div>\n",
       "<style scoped>\n",
       "    .dataframe tbody tr th:only-of-type {\n",
       "        vertical-align: middle;\n",
       "    }\n",
       "\n",
       "    .dataframe tbody tr th {\n",
       "        vertical-align: top;\n",
       "    }\n",
       "\n",
       "    .dataframe thead th {\n",
       "        text-align: right;\n",
       "    }\n",
       "</style>\n",
       "<table border=\"1\" class=\"dataframe\">\n",
       "  <thead>\n",
       "    <tr style=\"text-align: right;\">\n",
       "      <th></th>\n",
       "      <th>Country</th>\n",
       "      <th>Year</th>\n",
       "      <th>Label</th>\n",
       "      <th>Indicator</th>\n",
       "      <th>Value</th>\n",
       "      <th>Region</th>\n",
       "    </tr>\n",
       "  </thead>\n",
       "  <tbody>\n",
       "    <tr>\n",
       "      <th>41668</th>\n",
       "      <td>Singapore</td>\n",
       "      <td>2014</td>\n",
       "      <td>CO2 Emissions (Metric Tons)</td>\n",
       "      <td>Emissions</td>\n",
       "      <td>33.9</td>\n",
       "      <td>Rest of the World</td>\n",
       "    </tr>\n",
       "    <tr>\n",
       "      <th>41520</th>\n",
       "      <td>UAE</td>\n",
       "      <td>2014</td>\n",
       "      <td>CO2 Emissions (Metric Tons)</td>\n",
       "      <td>Emissions</td>\n",
       "      <td>26.8</td>\n",
       "      <td>Rest of the World</td>\n",
       "    </tr>\n",
       "    <tr>\n",
       "      <th>41661</th>\n",
       "      <td>Qatar</td>\n",
       "      <td>2014</td>\n",
       "      <td>CO2 Emissions (Metric Tons)</td>\n",
       "      <td>Emissions</td>\n",
       "      <td>25.6</td>\n",
       "      <td>Rest of the World</td>\n",
       "    </tr>\n",
       "    <tr>\n",
       "      <th>41541</th>\n",
       "      <td>Brunei</td>\n",
       "      <td>2014</td>\n",
       "      <td>CO2 Emissions (Metric Tons)</td>\n",
       "      <td>Emissions</td>\n",
       "      <td>20.8</td>\n",
       "      <td>Rest of the World</td>\n",
       "    </tr>\n",
       "    <tr>\n",
       "      <th>41621</th>\n",
       "      <td>Luxembourg</td>\n",
       "      <td>2014</td>\n",
       "      <td>CO2 Emissions (Metric Tons)</td>\n",
       "      <td>Emissions</td>\n",
       "      <td>20.3</td>\n",
       "      <td>Rest of the World</td>\n",
       "    </tr>\n",
       "    <tr>\n",
       "      <th>41611</th>\n",
       "      <td>Kuwait</td>\n",
       "      <td>2014</td>\n",
       "      <td>CO2 Emissions (Metric Tons)</td>\n",
       "      <td>Emissions</td>\n",
       "      <td>20.0</td>\n",
       "      <td>Rest of the World</td>\n",
       "    </tr>\n",
       "    <tr>\n",
       "      <th>41528</th>\n",
       "      <td>Belgium</td>\n",
       "      <td>2014</td>\n",
       "      <td>CO2 Emissions (Metric Tons)</td>\n",
       "      <td>Emissions</td>\n",
       "      <td>18.9</td>\n",
       "      <td>Rest of the World</td>\n",
       "    </tr>\n",
       "    <tr>\n",
       "      <th>41665</th>\n",
       "      <td>Saudi Arabia</td>\n",
       "      <td>2014</td>\n",
       "      <td>CO2 Emissions (Metric Tons)</td>\n",
       "      <td>Emissions</td>\n",
       "      <td>18.9</td>\n",
       "      <td>Rest of the World</td>\n",
       "    </tr>\n",
       "    <tr>\n",
       "      <th>41699</th>\n",
       "      <td>USA</td>\n",
       "      <td>2014</td>\n",
       "      <td>CO2 Emissions (Metric Tons)</td>\n",
       "      <td>Emissions</td>\n",
       "      <td>18.0</td>\n",
       "      <td>Rest of the World</td>\n",
       "    </tr>\n",
       "    <tr>\n",
       "      <th>41546</th>\n",
       "      <td>Switzerland</td>\n",
       "      <td>2014</td>\n",
       "      <td>CO2 Emissions (Metric Tons)</td>\n",
       "      <td>Emissions</td>\n",
       "      <td>17.0</td>\n",
       "      <td>Rest of the World</td>\n",
       "    </tr>\n",
       "  </tbody>\n",
       "</table>\n",
       "</div>"
      ],
      "text/plain": [
       "            Country  Year                        Label  Indicator  Value  \\\n",
       "41668     Singapore  2014  CO2 Emissions (Metric Tons)  Emissions   33.9   \n",
       "41520           UAE  2014  CO2 Emissions (Metric Tons)  Emissions   26.8   \n",
       "41661         Qatar  2014  CO2 Emissions (Metric Tons)  Emissions   25.6   \n",
       "41541        Brunei  2014  CO2 Emissions (Metric Tons)  Emissions   20.8   \n",
       "41621    Luxembourg  2014  CO2 Emissions (Metric Tons)  Emissions   20.3   \n",
       "41611        Kuwait  2014  CO2 Emissions (Metric Tons)  Emissions   20.0   \n",
       "41528       Belgium  2014  CO2 Emissions (Metric Tons)  Emissions   18.9   \n",
       "41665  Saudi Arabia  2014  CO2 Emissions (Metric Tons)  Emissions   18.9   \n",
       "41699           USA  2014  CO2 Emissions (Metric Tons)  Emissions   18.0   \n",
       "41546   Switzerland  2014  CO2 Emissions (Metric Tons)  Emissions   17.0   \n",
       "\n",
       "                  Region  \n",
       "41668  Rest of the World  \n",
       "41520  Rest of the World  \n",
       "41661  Rest of the World  \n",
       "41541  Rest of the World  \n",
       "41621  Rest of the World  \n",
       "41611  Rest of the World  \n",
       "41528  Rest of the World  \n",
       "41665  Rest of the World  \n",
       "41699  Rest of the World  \n",
       "41546  Rest of the World  "
      ]
     },
     "execution_count": 35,
     "metadata": {},
     "output_type": "execute_result"
    }
   ],
   "source": [
    "top_10_count = data_long[(data_long[\"Indicator\"] == \"Emissions\") & (data_long[\"Year\"] == 2014)]\n",
    "top_10_count = top_10_count.sort_values(\"Value\", ascending = False)[:10]\n",
    "top_10_count"
   ]
  },
  {
   "cell_type": "code",
   "execution_count": 36,
   "id": "7b9113d4",
   "metadata": {},
   "outputs": [
    {
     "name": "stderr",
     "output_type": "stream",
     "text": [
      "2025-08-17 19:15:08.517 Thread 'MainThread': missing ScriptRunContext! This warning can be ignored when running in bare mode.\n",
      "2025-08-17 19:15:08.706 Thread 'MainThread': missing ScriptRunContext! This warning can be ignored when running in bare mode.\n",
      "2025-08-17 19:15:08.707 Thread 'MainThread': missing ScriptRunContext! This warning can be ignored when running in bare mode.\n",
      "2025-08-17 19:15:08.708 Thread 'MainThread': missing ScriptRunContext! This warning can be ignored when running in bare mode.\n"
     ]
    },
    {
     "data": {
      "text/plain": [
       "DeltaGenerator()"
      ]
     },
     "execution_count": 36,
     "metadata": {},
     "output_type": "execute_result"
    }
   ],
   "source": [
    "fig, ax = plt.subplots()\n",
    "for country in top_10_count[\"Country\"]:\n",
    "    xf = data_long_f_cg.loc[data_long_f_cg[\"Country\"] == country]\n",
    "    xf = xf.loc[xf[\"Year\"]>=1900]\n",
    "    ax.plot(xf[\"Year\"], xf[\"Value\"], label = country)\n",
    "    ax.text(\n",
    "        xf[\"Year\"].max() + 0.5,\n",
    "        xf.loc[xf[\"Year\"].idxmax(), \"Value\"],\n",
    "        country,\n",
    "        fontsize = 8,\n",
    "        va=\"center\"\n",
    "    )\n",
    "    \n",
    "ax.legend()\n",
    "ax.set_title(\"Top 10 Emissions-producing Countries in 2010 (1900-2014)\")\n",
    "plt.suptitle(\"x\")\n",
    "ax.set_xlabel(\"Year\")\n",
    "ax.set_ylabel(\"Emissions (Metric Tons)\")\n",
    "st.pyplot(fig)"
   ]
  },
  {
   "cell_type": "markdown",
   "id": "fb3482c4",
   "metadata": {},
   "source": [
    "Let's graph these country's emissions per capita as well. "
   ]
  },
  {
   "cell_type": "code",
   "execution_count": 37,
   "id": "6e5f5767",
   "metadata": {},
   "outputs": [
    {
     "data": {
      "text/plain": [
       "Text(0.5, 1.0, 'Top 10 CO2 Emission-producing Countries')"
      ]
     },
     "execution_count": 37,
     "metadata": {},
     "output_type": "execute_result"
    }
   ],
   "source": [
    "top_10_countries = top_10_count[\"Country\"]\n",
    "top10 = data_long[data_long[\"Country\"].isin(top_10_countries)]\n",
    "top10 = top10[top10[\"Indicator\"] == \"Emissions\"]\n",
    "top10 = top10[top10[\"Year\"] >= 1900]\n",
    "\n",
    "plt.figure(figsize=(12, 6))\n",
    "heatmap_data = top10.pivot(index=\"Country\", columns=\"Year\", values=\"Value\")\n",
    "order = heatmap_data.sort_values(2014, ascending=False).index\n",
    "heatmap_data = heatmap_data.loc[order]\n",
    "\n",
    "sns.heatmap(\n",
    "    np.log(heatmap_data),\n",
    "    cmap=\"viridis\",\n",
    "    cbar_kws={\"label\": \"log(Value)\"}\n",
    ")\n",
    "\n",
    "plt.title(\"Top 10 CO2 Emission-producing Countries\")"
   ]
  },
  {
   "cell_type": "code",
   "execution_count": 38,
   "id": "2fa313be",
   "metadata": {},
   "outputs": [
    {
     "name": "stderr",
     "output_type": "stream",
     "text": [
      "/Users/aldrichgwynne/anaconda3/lib/python3.11/site-packages/seaborn/axisgrid.py:118: UserWarning: The figure layout has changed to tight\n",
      "  self._figure.tight_layout(*args, **kwargs)\n"
     ]
    },
    {
     "data": {
      "text/plain": [
       "<seaborn.axisgrid.FacetGrid at 0x178a37dd0>"
      ]
     },
     "execution_count": 38,
     "metadata": {},
     "output_type": "execute_result"
    }
   ],
   "source": [
    "facetdata = data_long[~data_long[\"Indicator\"].isin([\"Disasters\", \"Temperature\"])]\n",
    "grid = sns.FacetGrid(facetdata, row =\"Indicator\", col=\"Region\", sharey = False, aspect=1.5)\n",
    "grid.map_dataframe(sns.lineplot, x=\"Year\", y=\"Value\", hue=\"Country\", legend=False)\n"
   ]
  },
  {
   "cell_type": "code",
   "execution_count": 39,
   "id": "f9f1f33b",
   "metadata": {},
   "outputs": [
    {
     "name": "stderr",
     "output_type": "stream",
     "text": [
      "/Users/aldrichgwynne/anaconda3/lib/python3.11/site-packages/seaborn/axisgrid.py:118: UserWarning: The figure layout has changed to tight\n",
      "  self._figure.tight_layout(*args, **kwargs)\n"
     ]
    },
    {
     "data": {
      "text/plain": [
       "<seaborn.axisgrid.FacetGrid at 0x17afe8f90>"
      ]
     },
     "execution_count": 39,
     "metadata": {},
     "output_type": "execute_result"
    }
   ],
   "source": [
    "CO2_temp_PH_facet = data_long[data_long[\"Country\"] == \"Philippines\"]\n",
    "\n",
    "CO2_temp_PH_facet = CO2_temp_PH_facet[CO2_temp_PH_facet[\"Year\"] >= 1980]\n",
    "CO2_temp_PH_facet = CO2_temp_PH_facet[CO2_temp_PH_facet[\"Year\"] <= 2014]\n",
    "CO2_temp_PH_facet = CO2_temp_PH_facet[CO2_temp_PH_facet[\"Indicator\"].isin([\"Emissions\", \"Temperature\"])]\n",
    "\n",
    "grid = sns.FacetGrid(CO2_temp_PH_facet,row=\"Label\", sharey=False, aspect=1.5)\n",
    "grid.map_dataframe(sns.regplot, x=\"Year\", y=\"Value\", lowess = True, scatter=True)"
   ]
  },
  {
   "cell_type": "markdown",
   "id": "335fe6ef",
   "metadata": {},
   "source": [
    "### DATA ANALYSIS"
   ]
  },
  {
   "cell_type": "markdown",
   "id": "b87c125a",
   "metadata": {},
   "source": [
    "We can expect there to be some parallels between temperature and emissions, let's explore that possibility here! Let's first find the average temperature and co2 emissions in addition to their standard deviations"
   ]
  },
  {
   "cell_type": "code",
   "execution_count": 40,
   "id": "ae929300",
   "metadata": {},
   "outputs": [],
   "source": [
    "wide_PH = data_long[data_long[\"Country\"] == \"Philippines\"]\n",
    "wide_PH = wide_PH[wide_PH[\"Year\"] >= 1980]\n",
    "wide_PH = wide_PH[wide_PH[\"Year\"] <= 2014]\n",
    "wide_PH = wide_PH.drop(columns=[\"Label\"]).pivot(index=[\"Year\",\"Country\"],columns=\"Indicator\",values=\"Value\").reset_index()"
   ]
  },
  {
   "cell_type": "code",
   "execution_count": 41,
   "id": "ad4db353",
   "metadata": {},
   "outputs": [
    {
     "name": "stdout",
     "output_type": "stream",
     "text": [
      "The mean for emissions in the Philippines is 1.088514285714286\n",
      "The std for emissions in the Philippines is 0.12053129325225556\n",
      "The mean for temperature in the Philippines is 25.811384615384615\n",
      "The std for temperature in the Philippines is 0.207281873659828\n"
     ]
    }
   ],
   "source": [
    "CO2_mean = np.mean(wide_PH[\"Emissions\"])\n",
    "CO2_std = np.std(wide_PH[\"Emissions\"])\n",
    "temp_mean = np.mean(temp_melt[\"Mean Temperature\"])\n",
    "temp_std = np.std(temp_melt[\"Mean Temperature\"])\n",
    "print(\"The mean for emissions in the Philippines is \" + str(CO2_mean))\n",
    "print(\"The std for emissions in the Philippines is \" + str(CO2_std))\n",
    "print(\"The mean for temperature in the Philippines is \" + str(temp_mean))\n",
    "print(\"The std for temperature in the Philippines is \" + str(temp_std))"
   ]
  },
  {
   "cell_type": "markdown",
   "id": "d75a932b",
   "metadata": {},
   "source": [
    "Let's now take a look at how they correlate with one another. The result here is interestingly enough different than the United States' correlation in the way that it is negative. As the average temperature increases, the emissions decrease."
   ]
  },
  {
   "cell_type": "code",
   "execution_count": 42,
   "id": "eeb7d166",
   "metadata": {},
   "outputs": [
    {
     "data": {
      "text/plain": [
       "-0.10894672474217744"
      ]
     },
     "execution_count": 42,
     "metadata": {},
     "output_type": "execute_result"
    }
   ],
   "source": [
    "CO2_temp_corr = wide_PH[\"Emissions\"].corr(temp_melt[\"Mean Temperature\"])\n",
    "CO2_temp_corr"
   ]
  },
  {
   "cell_type": "code",
   "execution_count": 43,
   "id": "7c1f011a",
   "metadata": {},
   "outputs": [],
   "source": [
    "def scale(data):\n",
    "    return (data-np.mean(data))/np.std(data)"
   ]
  },
  {
   "cell_type": "code",
   "execution_count": 44,
   "id": "d6289120",
   "metadata": {},
   "outputs": [
    {
     "name": "stderr",
     "output_type": "stream",
     "text": [
      "2025-08-17 19:15:10.768 Thread 'MainThread': missing ScriptRunContext! This warning can be ignored when running in bare mode.\n",
      "2025-08-17 19:15:10.895 Thread 'MainThread': missing ScriptRunContext! This warning can be ignored when running in bare mode.\n",
      "2025-08-17 19:15:10.895 Thread 'MainThread': missing ScriptRunContext! This warning can be ignored when running in bare mode.\n",
      "2025-08-17 19:15:10.896 Thread 'MainThread': missing ScriptRunContext! This warning can be ignored when running in bare mode.\n"
     ]
    },
    {
     "data": {
      "text/plain": [
       "DeltaGenerator()"
      ]
     },
     "execution_count": 44,
     "metadata": {},
     "output_type": "execute_result"
    }
   ],
   "source": [
    "wide_PH[\"Emissions_scaled\"] = scale(wide_PH[\"Emissions\"])\n",
    "wide_PH[\"Temp_scaled\"] = scale(temp_melt[\"Mean Temperature\"])\n",
    "fig, ax = plt.subplots()\n",
    "sns.regplot(data = wide_PH, x=\"Emissions_scaled\", y=\"Temp_scaled\", ci=False, ax=ax)\n",
    "ax.set_title(\"C02 Emissions and Temperature (1980-2014)\")\n",
    "ax.set_xlabel(\"Scaled Emission (Metric Tonnes)\")\n",
    "ax.set_ylabel(\"Scaled Temperature (Fahrenheit)\")\n",
    "st.pyplot(fig)"
   ]
  },
  {
   "cell_type": "markdown",
   "id": "f92310af",
   "metadata": {},
   "source": [
    "### SUMMARY"
   ]
  },
  {
   "cell_type": "markdown",
   "id": "d3883f88",
   "metadata": {},
   "source": [
    "In this case study, we took a look at a variety of measures to understand the impact of CO2 emissions in the Philippines and the potential reasons for why they are the way they are now. CO2 emissions per capita have invariably increased over time, but so does every other metric (except temperature). We explored the possibility for some correlation between disasters, temperature, energy use, and GDP to emissions.\n",
    "\n",
    "Although it is now common scientific knowledge that the proliferation of greenhouse gasses has effects such as increased global temperatures. However, these events are no exclusive to the Philippines and it would be disingenuous to assert that production and movement in the Philippines is the sole factor that contributes to changes in their emissions. Climate change is a global movement and the actions of one player has effects on everyone. There are also many contextual details that make patterns difficult to draw. Earlier in this project we saw that temperature and emissions had a NEGATIVE correlation, much to the dissent of original proposed thought. When we consider the tropical and year-round hot weather in the Philippines though, it gives some reason that the negative correlation came about. There is still a lot more data to unpack and unravel to make definitive assertions on the factors that influence emissions in the Phhilippines"
   ]
  },
  {
   "cell_type": "code",
   "execution_count": null,
   "id": "c36cdef7",
   "metadata": {},
   "outputs": [],
   "source": []
  }
 ],
 "metadata": {
  "kernelspec": {
   "display_name": "Python 3 (ipykernel)",
   "language": "python",
   "name": "python3"
  },
  "language_info": {
   "codemirror_mode": {
    "name": "ipython",
    "version": 3
   },
   "file_extension": ".py",
   "mimetype": "text/x-python",
   "name": "python",
   "nbconvert_exporter": "python",
   "pygments_lexer": "ipython3",
   "version": "3.11.5"
  }
 },
 "nbformat": 4,
 "nbformat_minor": 5
}
